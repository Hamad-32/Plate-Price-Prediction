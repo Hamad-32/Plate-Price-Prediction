{
 "cells": [
  {
   "cell_type": "code",
   "execution_count": null,
   "id": "dc4b95c4-506c-42c6-8730-bc0712724b61",
   "metadata": {},
   "outputs": [],
   "source": []
  },
  {
   "cell_type": "markdown",
   "id": "41b9cf46-e4b2-4f6e-9665-4bfd518f87dc",
   "metadata": {},
   "source": [
    "## Loading the data"
   ]
  },
  {
   "cell_type": "code",
   "execution_count": null,
   "id": "0acb9d4e-3b6c-4fd4-91ec-d7dec634ace3",
   "metadata": {},
   "outputs": [],
   "source": []
  },
  {
   "cell_type": "markdown",
   "id": "25819649-5105-4ba4-9c2c-7c9253ac0b9f",
   "metadata": {},
   "source": [
    "## 1. Data Profiling:"
   ]
  },
  {
   "cell_type": "code",
   "execution_count": null,
   "id": "a56a702f-6252-437c-827c-6336235d64ef",
   "metadata": {},
   "outputs": [],
   "source": []
  },
  {
   "cell_type": "markdown",
   "id": "30f6275b-68b7-42d3-8a35-54fd58c30e82",
   "metadata": {},
   "source": [
    "### Data Quality Checks"
   ]
  },
  {
   "cell_type": "markdown",
   "id": "f24be24c-43ae-4edc-8a1b-6497a22bb2a8",
   "metadata": {},
   "source": [
    "#### 1. Reliability:"
   ]
  },
  {
   "cell_type": "code",
   "execution_count": null,
   "id": "7e5fed48-9dab-4476-8ebb-cec63eb371a0",
   "metadata": {},
   "outputs": [],
   "source": []
  },
  {
   "cell_type": "markdown",
   "id": "b44bb81f-388e-48b9-9633-35c840906290",
   "metadata": {},
   "source": [
    "#### 2. Timeliness: \n"
   ]
  },
  {
   "cell_type": "code",
   "execution_count": null,
   "id": "4f899492-c442-4ba8-a7b0-e5d819a7fda8",
   "metadata": {},
   "outputs": [],
   "source": []
  },
  {
   "cell_type": "markdown",
   "id": "6dd63a7a-1461-4ea0-a1cc-1c7d1ee49745",
   "metadata": {},
   "source": [
    "#### 3. Consistency:"
   ]
  },
  {
   "cell_type": "code",
   "execution_count": null,
   "id": "c9ab0119-bc41-46b3-8957-58e50c34b9fb",
   "metadata": {},
   "outputs": [],
   "source": []
  },
  {
   "cell_type": "markdown",
   "id": "a52d4139-5d98-410c-be98-890c1a26f808",
   "metadata": {},
   "source": [
    "#### 4. Relevance:\n"
   ]
  },
  {
   "cell_type": "code",
   "execution_count": null,
   "id": "9a75b3cc-1108-4558-9c8b-328a459c3c8c",
   "metadata": {},
   "outputs": [],
   "source": []
  },
  {
   "cell_type": "markdown",
   "id": "ce3d3240-5877-45b9-98a2-b39c54d67b11",
   "metadata": {},
   "source": [
    "#### 5. Uniqueness: "
   ]
  },
  {
   "cell_type": "code",
   "execution_count": null,
   "id": "eb765c33-a7e7-46f5-92b9-5d9ae97717a9",
   "metadata": {},
   "outputs": [],
   "source": []
  },
  {
   "cell_type": "markdown",
   "id": "a6c68a2b-62fd-459d-bbc6-efd55ca6853c",
   "metadata": {},
   "source": [
    "#### 6. Completeness: "
   ]
  },
  {
   "cell_type": "code",
   "execution_count": null,
   "id": "a0ec479e-48de-4f1b-bdeb-3b7dd5d13b81",
   "metadata": {},
   "outputs": [],
   "source": []
  },
  {
   "cell_type": "markdown",
   "id": "b32f919c-09d9-4951-b8d6-ff0653c601a0",
   "metadata": {},
   "source": [
    "#### 7. Check Accuracy:"
   ]
  },
  {
   "cell_type": "code",
   "execution_count": null,
   "id": "e2266b09-6e8d-486e-992a-50b8d1761d03",
   "metadata": {},
   "outputs": [],
   "source": []
  },
  {
   "cell_type": "markdown",
   "id": "83703577-f58a-4798-83d8-d41dd476e646",
   "metadata": {},
   "source": [
    "## 2. Data Cleaning: "
   ]
  },
  {
   "cell_type": "code",
   "execution_count": null,
   "id": "dc8036f2-28ae-4ff2-87c5-f88448965293",
   "metadata": {},
   "outputs": [],
   "source": []
  },
  {
   "cell_type": "markdown",
   "id": "19bb7e83-156a-48a3-b35f-9fc8af3627c9",
   "metadata": {},
   "source": [
    "## 3. Univariate Analysis: "
   ]
  },
  {
   "cell_type": "code",
   "execution_count": null,
   "id": "2f4c5ced-b8cd-4eb9-995f-9ae1576e1fcc",
   "metadata": {},
   "outputs": [],
   "source": []
  },
  {
   "cell_type": "markdown",
   "id": "63806ef0-efde-4137-a92f-2c134a2c2a52",
   "metadata": {},
   "source": [
    "## 4. Bivariate/Multivariate Analysis:"
   ]
  },
  {
   "cell_type": "code",
   "execution_count": null,
   "id": "864c68bc-7346-491c-9c4b-c515244bd43b",
   "metadata": {},
   "outputs": [],
   "source": []
  }
 ],
 "metadata": {
  "kernelspec": {
   "display_name": "Python [conda env:base] *",
   "language": "python",
   "name": "conda-base-py"
  },
  "language_info": {
   "codemirror_mode": {
    "name": "ipython",
    "version": 3
   },
   "file_extension": ".py",
   "mimetype": "text/x-python",
   "name": "python",
   "nbconvert_exporter": "python",
   "pygments_lexer": "ipython3",
   "version": "3.12.7"
  }
 },
 "nbformat": 4,
 "nbformat_minor": 5
}
