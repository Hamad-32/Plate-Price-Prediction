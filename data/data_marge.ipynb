{
 "cells": [
  {
   "cell_type": "code",
   "execution_count": 2,
   "metadata": {},
   "outputs": [],
   "source": [
    "import pandas as pd"
   ]
  },
  {
   "cell_type": "code",
   "execution_count": 4,
   "metadata": {},
   "outputs": [],
   "source": [
    "df = pd.read_csv('../preprocessing/lu7ah_cleand.csv')"
   ]
  },
  {
   "cell_type": "code",
   "execution_count": 5,
   "metadata": {},
   "outputs": [],
   "source": [
    "df1 = pd.read_csv('../preprocessing/mazad_1_cleand.csv')"
   ]
  },
  {
   "cell_type": "code",
   "execution_count": 6,
   "metadata": {},
   "outputs": [],
   "source": [
    "df2 = pd.read_csv('../preprocessing/mazad_2_cleand.csv')"
   ]
  },
  {
   "cell_type": "code",
   "execution_count": 7,
   "metadata": {},
   "outputs": [],
   "source": [
    "df3 = pd.read_csv('../preprocessing/lohatk_cleaned.csv')\n"
   ]
  },
  {
   "cell_type": "code",
   "execution_count": 21,
   "metadata": {},
   "outputs": [],
   "source": [
    "df3['char_en'] = df3['char_en'].apply(lambda x: ' '.join(x))\n",
    "df3['plate_no'] = df3['plate_no'].astype('Int64')"
   ]
  },
  {
   "cell_type": "code",
   "execution_count": 8,
   "metadata": {},
   "outputs": [],
   "source": [
    "df4 = pd.read_csv('../preprocessing/vip_cleand.csv')"
   ]
  },
  {
   "cell_type": "code",
   "execution_count": 9,
   "metadata": {},
   "outputs": [],
   "source": [
    "df5 = pd.read_csv('../preprocessing/mstaml_cleand.csv')"
   ]
  },
  {
   "cell_type": "code",
   "execution_count": 10,
   "metadata": {},
   "outputs": [],
   "source": [
    "merged_df = pd.concat([df, df1, df2, df3, df4,df5], ignore_index=True)"
   ]
  },
  {
   "cell_type": "code",
   "execution_count": 25,
   "metadata": {},
   "outputs": [
    {
     "data": {
      "text/html": [
       "<div>\n",
       "<style scoped>\n",
       "    .dataframe tbody tr th:only-of-type {\n",
       "        vertical-align: middle;\n",
       "    }\n",
       "\n",
       "    .dataframe tbody tr th {\n",
       "        vertical-align: top;\n",
       "    }\n",
       "\n",
       "    .dataframe thead th {\n",
       "        text-align: right;\n",
       "    }\n",
       "</style>\n",
       "<table border=\"1\" class=\"dataframe\">\n",
       "  <thead>\n",
       "    <tr style=\"text-align: right;\">\n",
       "      <th></th>\n",
       "      <th>char_ar</th>\n",
       "      <th>char_en</th>\n",
       "      <th>char1_ar</th>\n",
       "      <th>char2_ar</th>\n",
       "      <th>char3_ar</th>\n",
       "      <th>char1_en</th>\n",
       "      <th>char2_en</th>\n",
       "      <th>char3_en</th>\n",
       "      <th>plate_no</th>\n",
       "      <th>price</th>\n",
       "      <th>ribbon</th>\n",
       "      <th>Unnamed: 0</th>\n",
       "    </tr>\n",
       "  </thead>\n",
       "  <tbody>\n",
       "    <tr>\n",
       "      <th>769</th>\n",
       "      <td>د د و</td>\n",
       "      <td>U D D</td>\n",
       "      <td>د</td>\n",
       "      <td>د</td>\n",
       "      <td>و</td>\n",
       "      <td>D</td>\n",
       "      <td>D</td>\n",
       "      <td>U</td>\n",
       "      <td>2</td>\n",
       "      <td>80000</td>\n",
       "      <td>ذهبي</td>\n",
       "      <td>NaN</td>\n",
       "    </tr>\n",
       "    <tr>\n",
       "      <th>770</th>\n",
       "      <td>ن م ا</td>\n",
       "      <td>A Z N</td>\n",
       "      <td>ن</td>\n",
       "      <td>م</td>\n",
       "      <td>ا</td>\n",
       "      <td>N</td>\n",
       "      <td>Z</td>\n",
       "      <td>A</td>\n",
       "      <td>4</td>\n",
       "      <td>65000</td>\n",
       "      <td>ذهبي</td>\n",
       "      <td>NaN</td>\n",
       "    </tr>\n",
       "  </tbody>\n",
       "</table>\n",
       "</div>"
      ],
      "text/plain": [
       "    char_ar char_en char1_ar char2_ar char3_ar char1_en char2_en char3_en  \\\n",
       "769   د د و   U D D        د        د        و        D        D        U   \n",
       "770   ن م ا   A Z N        ن        م        ا        N        Z        A   \n",
       "\n",
       "     plate_no  price ribbon  Unnamed: 0  \n",
       "769         2  80000   ذهبي         NaN  \n",
       "770         4  65000   ذهبي         NaN  "
      ]
     },
     "execution_count": 25,
     "metadata": {},
     "output_type": "execute_result"
    }
   ],
   "source": [
    "merged_df[merged_df['ribbon'] == 'ذهبي']"
   ]
  },
  {
   "cell_type": "code",
   "execution_count": 26,
   "metadata": {},
   "outputs": [
    {
     "data": {
      "text/plain": [
       "58"
      ]
     },
     "execution_count": 26,
     "metadata": {},
     "output_type": "execute_result"
    }
   ],
   "source": [
    "merged_df.duplicated().sum()"
   ]
  },
  {
   "cell_type": "code",
   "execution_count": 27,
   "metadata": {},
   "outputs": [
    {
     "data": {
      "text/html": [
       "<div>\n",
       "<style scoped>\n",
       "    .dataframe tbody tr th:only-of-type {\n",
       "        vertical-align: middle;\n",
       "    }\n",
       "\n",
       "    .dataframe tbody tr th {\n",
       "        vertical-align: top;\n",
       "    }\n",
       "\n",
       "    .dataframe thead th {\n",
       "        text-align: right;\n",
       "    }\n",
       "</style>\n",
       "<table border=\"1\" class=\"dataframe\">\n",
       "  <thead>\n",
       "    <tr style=\"text-align: right;\">\n",
       "      <th></th>\n",
       "      <th>char_ar</th>\n",
       "      <th>char_en</th>\n",
       "      <th>char1_ar</th>\n",
       "      <th>char2_ar</th>\n",
       "      <th>char3_ar</th>\n",
       "      <th>char1_en</th>\n",
       "      <th>char2_en</th>\n",
       "      <th>char3_en</th>\n",
       "      <th>plate_no</th>\n",
       "      <th>price</th>\n",
       "      <th>ribbon</th>\n",
       "      <th>Unnamed: 0</th>\n",
       "    </tr>\n",
       "  </thead>\n",
       "  <tbody>\n",
       "    <tr>\n",
       "      <th>2214</th>\n",
       "      <td>س</td>\n",
       "      <td>S</td>\n",
       "      <td>س</td>\n",
       "      <td>NaN</td>\n",
       "      <td>NaN</td>\n",
       "      <td>S</td>\n",
       "      <td>NaN</td>\n",
       "      <td>NaN</td>\n",
       "      <td>0</td>\n",
       "      <td>2500000</td>\n",
       "      <td>NaN</td>\n",
       "      <td>NaN</td>\n",
       "    </tr>\n",
       "    <tr>\n",
       "      <th>2437</th>\n",
       "      <td>م   م   ح</td>\n",
       "      <td>J   Z   Z</td>\n",
       "      <td>م</td>\n",
       "      <td>م</td>\n",
       "      <td>ح</td>\n",
       "      <td>Z</td>\n",
       "      <td>Z</td>\n",
       "      <td>J</td>\n",
       "      <td>1</td>\n",
       "      <td>50000</td>\n",
       "      <td>NaN</td>\n",
       "      <td>NaN</td>\n",
       "    </tr>\n",
       "    <tr>\n",
       "      <th>2795</th>\n",
       "      <td>ى   ح   و</td>\n",
       "      <td>U   J   V</td>\n",
       "      <td>ى</td>\n",
       "      <td>ح</td>\n",
       "      <td>و</td>\n",
       "      <td>V</td>\n",
       "      <td>J</td>\n",
       "      <td>U</td>\n",
       "      <td>1</td>\n",
       "      <td>400</td>\n",
       "      <td>NaN</td>\n",
       "      <td>NaN</td>\n",
       "    </tr>\n",
       "    <tr>\n",
       "      <th>895</th>\n",
       "      <td>س م أ</td>\n",
       "      <td>A Z S</td>\n",
       "      <td>س</td>\n",
       "      <td>م</td>\n",
       "      <td>أ</td>\n",
       "      <td>S</td>\n",
       "      <td>Z</td>\n",
       "      <td>A</td>\n",
       "      <td>1</td>\n",
       "      <td>80000</td>\n",
       "      <td>NaN</td>\n",
       "      <td>92.0</td>\n",
       "    </tr>\n",
       "    <tr>\n",
       "      <th>2961</th>\n",
       "      <td>س   م   ا</td>\n",
       "      <td>A   Z   S</td>\n",
       "      <td>س</td>\n",
       "      <td>م</td>\n",
       "      <td>ا</td>\n",
       "      <td>S</td>\n",
       "      <td>Z</td>\n",
       "      <td>A</td>\n",
       "      <td>1</td>\n",
       "      <td>90000</td>\n",
       "      <td>NaN</td>\n",
       "      <td>NaN</td>\n",
       "    </tr>\n",
       "    <tr>\n",
       "      <th>...</th>\n",
       "      <td>...</td>\n",
       "      <td>...</td>\n",
       "      <td>...</td>\n",
       "      <td>...</td>\n",
       "      <td>...</td>\n",
       "      <td>...</td>\n",
       "      <td>...</td>\n",
       "      <td>...</td>\n",
       "      <td>...</td>\n",
       "      <td>...</td>\n",
       "      <td>...</td>\n",
       "      <td>...</td>\n",
       "    </tr>\n",
       "    <tr>\n",
       "      <th>2710</th>\n",
       "      <td>ب   ط   ر</td>\n",
       "      <td>R   T   B</td>\n",
       "      <td>ب</td>\n",
       "      <td>ط</td>\n",
       "      <td>ر</td>\n",
       "      <td>B</td>\n",
       "      <td>T</td>\n",
       "      <td>R</td>\n",
       "      <td>9007</td>\n",
       "      <td>10000</td>\n",
       "      <td>NaN</td>\n",
       "      <td>NaN</td>\n",
       "    </tr>\n",
       "    <tr>\n",
       "      <th>3244</th>\n",
       "      <td>ب   ط   ر</td>\n",
       "      <td>R   T   B</td>\n",
       "      <td>ب</td>\n",
       "      <td>ط</td>\n",
       "      <td>ر</td>\n",
       "      <td>B</td>\n",
       "      <td>T</td>\n",
       "      <td>R</td>\n",
       "      <td>9007</td>\n",
       "      <td>12000</td>\n",
       "      <td>NaN</td>\n",
       "      <td>NaN</td>\n",
       "    </tr>\n",
       "    <tr>\n",
       "      <th>1974</th>\n",
       "      <td>ر   ع   ب</td>\n",
       "      <td>B   E   R</td>\n",
       "      <td>ر</td>\n",
       "      <td>ع</td>\n",
       "      <td>ب</td>\n",
       "      <td>R</td>\n",
       "      <td>E</td>\n",
       "      <td>B</td>\n",
       "      <td>9293</td>\n",
       "      <td>10</td>\n",
       "      <td>NaN</td>\n",
       "      <td>NaN</td>\n",
       "    </tr>\n",
       "    <tr>\n",
       "      <th>3334</th>\n",
       "      <td>ب   ق   و</td>\n",
       "      <td>U   G   B</td>\n",
       "      <td>ب</td>\n",
       "      <td>ق</td>\n",
       "      <td>و</td>\n",
       "      <td>B</td>\n",
       "      <td>G</td>\n",
       "      <td>U</td>\n",
       "      <td>9494</td>\n",
       "      <td>20000</td>\n",
       "      <td>NaN</td>\n",
       "      <td>NaN</td>\n",
       "    </tr>\n",
       "    <tr>\n",
       "      <th>1847</th>\n",
       "      <td>س   ب   ع</td>\n",
       "      <td>E   B   S</td>\n",
       "      <td>س</td>\n",
       "      <td>ب</td>\n",
       "      <td>ع</td>\n",
       "      <td>S</td>\n",
       "      <td>B</td>\n",
       "      <td>E</td>\n",
       "      <td>9919</td>\n",
       "      <td>20</td>\n",
       "      <td>NaN</td>\n",
       "      <td>NaN</td>\n",
       "    </tr>\n",
       "  </tbody>\n",
       "</table>\n",
       "<p>263 rows × 12 columns</p>\n",
       "</div>"
      ],
      "text/plain": [
       "        char_ar    char_en char1_ar char2_ar char3_ar char1_en char2_en  \\\n",
       "2214          س          S        س      NaN      NaN        S      NaN   \n",
       "2437  م   م   ح  J   Z   Z        م        م        ح        Z        Z   \n",
       "2795  ى   ح   و  U   J   V        ى        ح        و        V        J   \n",
       "895       س م أ      A Z S        س        م        أ        S        Z   \n",
       "2961  س   م   ا  A   Z   S        س        م        ا        S        Z   \n",
       "...         ...        ...      ...      ...      ...      ...      ...   \n",
       "2710  ب   ط   ر  R   T   B        ب        ط        ر        B        T   \n",
       "3244  ب   ط   ر  R   T   B        ب        ط        ر        B        T   \n",
       "1974  ر   ع   ب  B   E   R        ر        ع        ب        R        E   \n",
       "3334  ب   ق   و  U   G   B        ب        ق        و        B        G   \n",
       "1847  س   ب   ع  E   B   S        س        ب        ع        S        B   \n",
       "\n",
       "     char3_en  plate_no    price ribbon  Unnamed: 0  \n",
       "2214      NaN         0  2500000    NaN         NaN  \n",
       "2437        J         1    50000    NaN         NaN  \n",
       "2795        U         1      400    NaN         NaN  \n",
       "895         A         1    80000    NaN        92.0  \n",
       "2961        A         1    90000    NaN         NaN  \n",
       "...       ...       ...      ...    ...         ...  \n",
       "2710        R      9007    10000    NaN         NaN  \n",
       "3244        R      9007    12000    NaN         NaN  \n",
       "1974        B      9293       10    NaN         NaN  \n",
       "3334        U      9494    20000    NaN         NaN  \n",
       "1847        E      9919       20    NaN         NaN  \n",
       "\n",
       "[263 rows x 12 columns]"
      ]
     },
     "execution_count": 27,
     "metadata": {},
     "output_type": "execute_result"
    }
   ],
   "source": [
    "merged_df[merged_df.duplicated(['char1_ar','char2_ar','char3_ar','char1_en','char2_en','char3_en','plate_no'],keep='first')].sort_values('plate_no')"
   ]
  },
  {
   "cell_type": "code",
   "execution_count": 11,
   "metadata": {},
   "outputs": [],
   "source": [
    "merged_df.drop('Unnamed: 0',axis=1,inplace=True)"
   ]
  },
  {
   "cell_type": "code",
   "execution_count": 14,
   "metadata": {},
   "outputs": [
    {
     "data": {
      "text/plain": [
       "211"
      ]
     },
     "execution_count": 14,
     "metadata": {},
     "output_type": "execute_result"
    }
   ],
   "source": [
    "merged_df.duplicated(['char1_ar','char2_ar','char3_ar','char1_en','char2_en','char3_en','plate_no']).sum()"
   ]
  },
  {
   "cell_type": "code",
   "execution_count": 13,
   "metadata": {},
   "outputs": [],
   "source": [
    "merged_df = merged_df[merged_df['price'] > 500 ]"
   ]
  },
  {
   "cell_type": "code",
   "execution_count": 15,
   "metadata": {},
   "outputs": [
    {
     "data": {
      "text/plain": [
       "(3043, 11)"
      ]
     },
     "execution_count": 15,
     "metadata": {},
     "output_type": "execute_result"
    }
   ],
   "source": [
    "merged_df.shape"
   ]
  },
  {
   "cell_type": "code",
   "execution_count": 37,
   "metadata": {},
   "outputs": [],
   "source": [
    "merged_df.to_csv('mergedData.csv', index=False)"
   ]
  },
  {
   "cell_type": "code",
   "execution_count": null,
   "metadata": {},
   "outputs": [],
   "source": []
  }
 ],
 "metadata": {
  "kernelspec": {
   "display_name": "Python 3",
   "language": "python",
   "name": "python3"
  },
  "language_info": {
   "codemirror_mode": {
    "name": "ipython",
    "version": 3
   },
   "file_extension": ".py",
   "mimetype": "text/x-python",
   "name": "python",
   "nbconvert_exporter": "python",
   "pygments_lexer": "ipython3",
   "version": "3.10.8"
  }
 },
 "nbformat": 4,
 "nbformat_minor": 2
}
